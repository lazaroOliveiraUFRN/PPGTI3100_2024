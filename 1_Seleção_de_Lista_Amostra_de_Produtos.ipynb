{
  "nbformat": 4,
  "nbformat_minor": 0,
  "metadata": {
    "colab": {
      "provenance": [],
      "mount_file_id": "1d19Elb6_lA-lhci3OJTlZneNPD_BWdne",
      "authorship_tag": "ABX9TyMGb468Lr7/NIMsweUZcGsX",
      "include_colab_link": true
    },
    "kernelspec": {
      "name": "python3",
      "display_name": "Python 3"
    },
    "language_info": {
      "name": "python"
    }
  },
  "cells": [
    {
      "cell_type": "markdown",
      "metadata": {
        "id": "view-in-github",
        "colab_type": "text"
      },
      "source": [
        "<a href=\"https://colab.research.google.com/github/lazaroOliveiraUFRN/PPGTI3100_2024/blob/main/1_Sele%C3%A7%C3%A3o_de_Lista_Amostra_de_Produtos.ipynb\" target=\"_parent\"><img src=\"https://colab.research.google.com/assets/colab-badge.svg\" alt=\"Open In Colab\"/></a>"
      ]
    },
    {
      "cell_type": "markdown",
      "source": [
        "# Configuração do ambiente"
      ],
      "metadata": {
        "id": "7PKC0VeMz0fA"
      }
    },
    {
      "cell_type": "code",
      "source": [
        "import pandas as pd\n",
        "import os\n",
        "import glob"
      ],
      "metadata": {
        "id": "h1K6l4tUz6xo"
      },
      "execution_count": null,
      "outputs": []
    },
    {
      "cell_type": "markdown",
      "source": [
        "# Leitura da base dados"
      ],
      "metadata": {
        "id": "TMeDG5Xlz77I"
      }
    },
    {
      "cell_type": "code",
      "source": [
        "arquivo_dados = '/content/drive/MyDrive/disciplinas/PPGTI3100 - TÓPICOS AVANÇADOS EM INTELIGÊNCIA COMPUTACIONAL 1/trabalho_final/lista_completa_v2.csv'"
      ],
      "metadata": {
        "id": "lXJ7XaE716mI"
      },
      "execution_count": null,
      "outputs": []
    },
    {
      "cell_type": "code",
      "source": [
        "arquivo_dados = '/content/drive/MyDrive/disciplinas/PPGTI3100 - TÓPICOS AVANÇADOS EM INTELIGÊNCIA COMPUTACIONAL 1/trabalho_final/lista_completa_v2.csv'\n",
        "\n",
        "!head -n 100 \"{arquivo_dados}\""
      ],
      "metadata": {
        "colab": {
          "base_uri": "https://localhost:8080/"
        },
        "id": "QH95wIr23VGs",
        "outputId": "9f069655-cd37-4e13-98a8-6f750774fd26"
      },
      "execution_count": null,
      "outputs": [
        {
          "output_type": "stream",
          "name": "stdout",
          "text": [
            "|Unnamed: 0|Unnamed: 0.1|descricao_produto|root_name|primeira_palavra|composicao_texto|expressao_escolhida|calculado_por_ml\r\n",
            "0|0|0|FIO 2,5 MM²|FIO|FIO|NOUN__ROOT NUM__nummod PROPN__nmod|NOUN__ROOT|NOUN__ROOT\r\n",
            "1|1|1|CABO PP3X4.0MM²|CABO|CABO|NOUN__ROOT PROPN__ROOT|NOUN__ROOT|NOUN__ROOT\r\n",
            "2|2|2|FIO PARALELO 2 X 2,5 MM²|FIO|FIO|PROPN__ROOT PROPN__flat:name NUM__nummod NUM__flat NUM__flat PROPN__ROOT|PROPN__ROOT|PROPN__ROOT\r\n",
            "3|3|3|AREIA M³|AREIA|AREIA|PROPN__ROOT PROPN__appos|PROPN__ROOT|PROPN__ROOT\r\n",
            "4|4|4|CABO FLEX 16MM² PRETO|CABO|CABO|NOUN__ROOT NOUN__flat:name NUM__ROOT NOUN__flat:name|NOUN__ROOT|NOUN__ROOT\r\n",
            "5|5|5|PONTA SEM FIM P 4 Ø 1|PONTA|PONTA|NOUN__ROOT ADP__case PROPN__ROOT PROPN__dep PROPN__dep ADP__case NUM__ROOT|NOUN__ROOT|NOUN__ROOT\r\n",
            "6|6|6|CON.SOLD ADAPT CTO 85MMX 3 AMANCO|CON.SOLD|CON.SOLD|NOUN__ROOT PROPN__appos PROPN__ROOT PROPN__flat:name NUM__nummod PROPN__flat:name|NOUN__ROOT|NOUN__ROOT\r\n",
            "7|7|7|PAPEL GLOSSY ADESIVO 135G M² A4 R.JA 1005 10 ATACADO PCT C 10 KIT|PAPEL|PAPEL|NOUN__nsubj VERB__ROOT NOUN__obj NUM__nummod NOUN__ROOT DET__flat:name NOUN__dep PROPN__ROOT NUM__nummod NUM__dep NOUN__flat:name PROPN__ROOT PROPN__flat:name NUM__nummod PROPN__ROOT|NOUN__nsubj|NOUN__nsubj\r\n",
            "8|8|8|CON.POLIET ADAPTADOR 2|CON.POLIET|CON.POLIET|PROPN__ROOT PROPN__appos NUM__flat:name|PROPN__ROOT|PROPN__ROOT\r\n",
            "9|9|9|CON.GALV TEE 2|CON.GALV|CON.GALV|ADP__ROOT PROPN__appos PROPN__flat:name|ADP__ROOT|ADP__ROOT\r\n",
            "10|10|10|CAPOTES|CAPOTES|CAPOTES|PROPN__ROOT|PROPN__ROOT|PROPN__ROOT\r\n",
            "11|11|11|ESPONJ BRILHUS BETTANIN|ESPONJ|ESPONJ|PROPN__ROOT PROPN__appos PROPN__flat:name|PROPN__ROOT|PROPN__ROOT\r\n",
            "12|12|12|ESPONJA BANHO BETTA|ESPONJA|ESPONJA|DET__nsubj NOUN__cop PROPN__ROOT|DET__nsubj|DET__nsubj\r\n",
            "13|13|13|ESPONJA BANHO BETTANIN UN|ESPONJA|ESPONJA|DET__nsubj NOUN__ROOT PROPN__obj PROPN__flat:name|DET__nsubj|DET__nsubj\r\n",
            "14|14|14|ESPONJA BANHO SLOW BETTANIN|ESPONJA|ESPONJA|DET__nsubj NOUN__ROOT PROPN__ROOT PROPN__flat:name|DET__nsubj|DET__nsubj\r\n",
            "15|15|15|ESPONJA BETTA BANHO LV 3 PG 2|ESPONJA|ESPONJA|PROPN__nsubj PROPN__flat:name PROPN__ROOT PROPN__ROOT NUM__nummod PROPN__obj PROPN__nummod|PROPN__nsubj|PROPN__nsubj\r\n",
            "16|16|16|ESPONJA BETTANIN BRILHUS C 04 LEVE 4 PG 3|ESPONJA|ESPONJA|PROPN__ROOT PROPN__flat:name PROPN__flat:name PROPN__flat:name NUM__nummod NOUN__ROOT NUM__nummod PROPN__ROOT PROPN__nummod|PROPN__ROOT|NOUN__ROOT\r\n",
            "17|17|17|ESPONJA BETTANIN BRILHUS LV4 PG3|ESPONJA|ESPONJA|PROPN__ROOT PROPN__flat:name PROPN__flat:name PROPN__flat:name PROPN__flat:name|PROPN__ROOT|PROPN__ROOT\r\n",
            "18|18|18|FILTRO MELITTA MEDIO 102|FILTRO|FILTRO|PROPN__ROOT PROPN__amod PROPN__appos NUM__nummod|PROPN__ROOT|PROPN__ROOT\r\n",
            "19|19|19|GARRAFA ALADDIN SOFT RATTAN 1L BG MR|GARRAFA|GARRAFA|PROPN__ROOT VERB__flat:name NOUN__ROOT VERB__flat:name NOUN__flat:name PROPN__ROOT PROPN__flat:name|PROPN__ROOT|PROPN__ROOT\r\n",
            "20|20|20|JOGO CAMISA KANGA ATTACK|JOGO|JOGO|NOUN__ROOT ADJ__ROOT PROPN__ROOT PROPN__flat:name|NOUN__ROOT|NOUN__ROOT\r\n",
            "21|21|21|LINHA SETTA 120 C 2000 JDS|LINHA|LINHA|NOUN__ROOT PROPN__amod NUM__nummod NOUN__nmod NUM__flat:name PROPN__ROOT|NOUN__ROOT|NOUN__ROOT\r\n",
            "22|22|22|MARRETA CABO MADEIR.MOD.NR.4 1.5 PACETTA|MARRETA|MARRETA|PROPN__ROOT ADV__flat:name PROPN__flat:name NUM__flat:name NOUN__flat:name|PROPN__ROOT|PROPN__ROOT\r\n",
            "23|23|23|MARRETA PACETTA S CABO 5KG|MARRETA|MARRETA|PROPN__ROOT PROPN__flat:name NOUN__ROOT NOUN__dep NUM__nummod|PROPN__ROOT|PROPN__ROOT\r\n",
            "24|24|24|MARTELO 25MM PACETTA|MARTELO|MARTELO|PROPN__ROOT NUM__flat:name NOUN__flat:name|PROPN__ROOT|PROPN__ROOT\r\n",
            "25|25|25|OREGANO COMETTA 20G|COMETTA G|OREGANO|PROPN__ROOT PROPN__nsubj NUM__nummod NOUN__nsubj|NOUN__nsubj|NOUN__nsubj\r\n",
            "26|26|26|PA LIXO BETTANIN JEITOSA C CABO REF.9253|PA|PA|PROPN__ROOT PROPN__amod PROPN__appos PROPN__flat:name PROPN__flat:name PROPN__flat:name PROPN__flat:name|PROPN__ROOT|PROPN__ROOT\r\n",
            "27|27|27|PACETTA COLHER PEDREIRO NUM 8|PACETTA|PACETTA|PROPN__ROOT NOUN__punct PROPN__flat:name PROPN__ROOT NUM__nummod|PROPN__ROOT|PROPN__ROOT\r\n",
            "28|28|28|PACETTA COLHER PEDREIRO NUM 9|PACETTA|PACETTA|PROPN__ROOT NOUN__punct PROPN__flat:name PROPN__ROOT NUM__nummod|PROPN__ROOT|PROPN__ROOT\r\n",
            "29|29|29|PIMENTA MALAG.COMETTA 70G|PIMENTA|PIMENTA|NOUN__ROOT PROPN__flat:name PROPN__dep PROPN__ROOT|NOUN__ROOT|NOUN__ROOT\r\n",
            "30|30|30|QJO.COTTAG.P.ALEGRE 400G PO|QJO.COTTAG.P.ALEGRE|QJO.COTTAG.P.ALEGRE|PROPN__ROOT NUM__dep PROPN__ROOT PROPN__flat:name|PROPN__ROOT|PROPN__ROOT\r\n",
            "31|31|31|BUCHA PLASTICA F801 N 6 C ABA|BUCHA|BUCHA|NOUN__ROOT PROPN__flat:name PROPN__flat:name NOUN__ROOT NUM__dep PROPN__dep PROPN__flat:name|NOUN__ROOT|NOUN__ROOT\r\n",
            "32|32|32|TERMINAL PINO TUBULAR LONGO 50 MM²|TERMINAL|TERMINAL|VERB__nsubj NOUN__flat:name ADJ__punct PROPN__ROOT NUM__nummod PROPN__obj|VERB__nsubj|VERB__nsubj\r\n",
            "33|33|33|AGULHA PARA CROCHE NØ6|AGULHA|AGULHA|NOUN__ROOT ADP__case PROPN__nmod PROPN__ROOT|NOUN__ROOT|NOUN__ROOT\r\n",
            "34|34|34|FITA SILKAMULTISEAL METRO 10CM|FITA|FITA|PROPN__ROOT PROPN__flat:name PROPN__ROOT NUM__flat:name|PROPN__ROOT|PROPN__ROOT\r\n",
            "35|35|35|FLORAX ADULTO|FLORAX|FLORAX|PROPN__ROOT PROPN__ROOT|PROPN__ROOT|PROPN__ROOT\r\n",
            "36|36|36|PAPELEIRA ASFORA TRIPLA ACRILICO FUME|PAPELEIRA|PAPELEIRA|PROPN__ROOT PROPN__flat:name PROPN__flat:name PROPN__flat:name PROPN__flat:name|PROPN__ROOT|PROPN__ROOT\r\n",
            "37|37|37|PASTA  PLASTICA C/ ABA ELASTICO FUME|PASTA|PASTA|NOUN__nsubj _SP__ VERB__ROOT NOUN__ROOT PROPN__ROOT VERB__flat:name NOUN__flat:name|NOUN__nsubj|NOUN__nsubj\r\n",
            "38|38|38|PASTA ABA ELASTICA OF DAC ECONOMIC 501PP KIT FUME|PASTA|PASTA|NOUN__nsubj PROPN__flat:name VERB__ROOT PROPN__case PROPN__ROOT PROPN__flat:name NUM__dep PROPN__ROOT PROPN__flat:name|NOUN__nsubj|NOUN__nsubj\r\n",
            "39|39|39|PASTA ABA ELASTICO OFICIO LINE FUME|PASTA|PASTA|NOUN__ROOT PROPN__flat:name VERB__ROOT PROPN__ROOT PROPN__ROOT PROPN__flat:name|NOUN__ROOT|NOUN__ROOT\r\n",
            "40|40|40|PASTA C TRILHO ACP P ON LINE FUME|PASTA|PASTA|NOUN__ROOT NOUN__ROOT PROPN__ROOT PROPN__ROOT PROPN__dep PROPN__ROOT ADJ__ROOT PROPN__flat:name|NOUN__ROOT|NOUN__ROOT\r\n",
            "41|41|41|PASTA G TRILHO PL. FUME|PASTA|PASTA|NOUN__ROOT NOUN__ROOT PROPN__flat:name NOUN__ROOT PUNCT__punct PROPN__ROOT|NOUN__ROOT|NOUN__ROOT\r\n",
            "42|42|42|PASTA POLIBRAS SOFT OFICIO FUME COM ABA10X1|PASTA|PASTA|NOUN__ROOT PROPN__amod NOUN__ROOT PROPN__ROOT PROPN__flat:name ADP__case PROPN__nmod|NOUN__ROOT|NOUN__ROOT\r\n",
            "43|43|43|PASTA UMECTANTE 20 KG|PASTA|PASTA|NOUN__nsubj PROPN__ROOT NUM__nummod NOUN__obj|NOUN__nsubj|NOUN__nsubj\r\n",
            "44|44|44|ESPESSOMETRO ALUMINIO POLIDO|ESPESSOMETRO|ESPESSOMETRO|PROPN__ROOT PROPN__amod NOUN__flat:name|PROPN__ROOT|PROPN__ROOT\r\n",
            "45|45|45|ESPREMEDOR BATATA ALUMINIO MANUAL|ESPREMEDOR|ESPREMEDOR|PROPN__ROOT PROPN__flat:name PROPN__flat:name PROPN__flat:name|PROPN__ROOT|PROPN__ROOT\r\n",
            "46|46|46|ESPREMEDOR BATATA ALUMINIO 22CM|ESPREMEDOR|ESPREMEDOR|PROPN__ROOT PROPN__flat:name PROPN__flat:name NUM__flat:name|PROPN__ROOT|PROPN__ROOT\r\n",
            "47|47|47|ESQUADRO C.ALUMINIO 12|ESQUADRO|ESQUADRO|VERB__ROOT ADP__amod NUM__nummod|VERB__ROOT|VERB__ROOT\r\n",
            "48|48|48|ESQUADRO CB ALUMINIO PREMIUM|ESQUADRO|ESQUADRO|VERB__ROOT PROPN__flat:name PROPN__flat:name PROPN__flat:name|VERB__ROOT|VERB__ROOT\r\n",
            "49|49|49|ESTADIOMETRO ALUMINIO|ESTADIOMETRO|ESTADIOMETRO|VERB__ROOT PROPN__amod|VERB__ROOT|VERB__ROOT\r\n",
            "50|50|50|ETIQUETA PATRIMONIAL ALUMINIO 4,5 X 1,5 CM|ETIQUETA|ETIQUETA|NOUN__ROOT NOUN__ROOT PROPN__amod NUM__nummod NUM__flat NUM__nummod PROPN__ROOT|NOUN__ROOT|NOUN__ROOT\r\n",
            "51|51|51|FAIXA ADESIVA REFLETIVA C ALUMINIO LD|FAIXA|FAIXA|PROPN__ROOT PROPN__flat:name PROPN__ROOT NOUN__flat:name PROPN__flat:name PROPN__flat:name|PROPN__ROOT|PROPN__ROOT\r\n",
            "52|52|52|FILIPINHO A4 LUMI 5 CORES 75GR C 50FL FILIPERSON|FILIPINHO|FILIPINHO|PROPN__ROOT PROPN__punct PROPN__ROOT NUM__nummod NOUN__flat:name NUM__nummod NOUN__ROOT NUM__flat:name PROPN__ROOT|PROPN__ROOT|PROPN__ROOT\r\n",
            "53|53|53|FILTRO SEDIMENTADOR R120LJ10MAQII MWM CUMINS|FILTRO|FILTRO|NOUN__ROOT PROPN__flat:name PROPN__punct PROPN__appos PROPN__flat:name|NOUN__ROOT|NOUN__ROOT\r\n",
            "54|54|54|FLOCUL. E CLARIF. 1L MONTREAL PAC CLORETO ALUMINIO FLOC 1 L|FLOCUL|FLOCUL.|PROPN__ROOT PUNCT__punct CCONJ__cc PROPN__ROOT PUNCT__punct NOUN__ROOT PROPN__ROOT PROPN__ROOT PROPN__ROOT PROPN__flat:name PROPN__ROOT PROPN__dep PROPN__obj|PROPN__ROOT|PROPN__ROOT\r\n",
            "55|55|55|FOLHA ALUMINIO|FOLHA|FOLHA|PROPN__ROOT PROPN__flat:name|PROPN__ROOT|PROPN__ROOT\r\n",
            "56|56|56|FOLHA ALUMINIO BOREDA 30X7.5M|FOLHA|FOLHA|PROPN__ROOT PROPN__flat:name VERB__flat:name NUM__dep PROPN__nsubj|PROPN__ROOT|PROPN__nsubj\r\n",
            "57|57|57|FOLHA ALUMINIO BOREDA 4M X 45 CM GDE|FOLHA|FOLHA|PROPN__ROOT PROPN__flat:name VERB__flat:name NUM__dep PROPN__dep PROPN__dep NUM__nummod PROPN__ROOT PROPN__appos|PROPN__ROOT|PROPN__ROOT\r\n",
            "58|58|58|FRIGIDEIRA ALUMINIO 34CM|FRIGIDEIRA|FRIGIDEIRA|PROPN__ROOT PROPN__flat:name NUM__flat:name|PROPN__ROOT|PROPN__ROOT\r\n",
            "59|59|59|GAR. TERMICA LUMINA 1L 9721|LUMINA|GAR.|PROPN__ROOT PUNCT__punct PROPN__ROOT PROPN__nsubj NOUN__obj NUM__ROOT|PROPN__nsubj|PROPN__nsubj\r\n",
            "60|60|60|GARRAFA LUMINA 1,0L|GARRAFA|GARRAFA|PROPN__ROOT PROPN__flat:name PROPN__nummod|PROPN__ROOT|PROPN__ROOT\r\n",
            "61|61|61|GLUCOREUMIN 1500 MG PO SOL OR CT 30 SAC|GLUCOREUMIN|GLUCOREUMIN|PROPN__ROOT NUM__nummod PROPN__ROOT PROPN__flat:name PROPN__flat:name PROPN__case PROPN__ROOT NUM__nummod PROPN__ROOT|PROPN__ROOT|PROPN__ROOT\r\n",
            "62|62|62|ILUMI INT 1SS C PLACA R 2017|ILUMI|ILUMI|PROPN__ROOT PROPN__flat:name NUM__nummod PROPN__ROOT PROPN__flat:name PROPN__ROOT NUM__flat:name|PROPN__ROOT|PROPN__ROOT\r\n",
            "63|63|63|ILUMI INT 2SS C PLACA R 2018|ILUMI|ILUMI|PROPN__ROOT PROPN__flat:name NUM__amod PROPN__ROOT PROPN__flat:name PROPN__ROOT PROPN__flat:name|PROPN__ROOT|PROPN__ROOT\r\n",
            "64|64|64|ILUMI SAFIRA 2217 INTER.1SIMPLES|ILUMI|ILUMI|PROPN__ROOT PROPN__flat:name NUM__nummod PROPN__appos|PROPN__ROOT|PROPN__ROOT\r\n",
            "65|65|65|\"PINCEL PARA PINTURA, 1 \"\" - ATLAS\"|PINCEL|PINCEL|PROPN__ROOT ADP__case NOUN__nmod PUNCT__punct NUM__dep PUNCT__dep PUNCT__punct PROPN__parataxis|PROPN__ROOT|PROPN__ROOT\r\n",
            "66|66|66|CON.GALV CURVA FF 90 4|CURVA|CON.GALV|ADP__ROOT NOUN__nsubj PROPN__appos NUM__flat:name NUM__ROOT|NOUN__nsubj|NOUN__nsubj\r\n",
            "67|67|67|CON.SOLD CURVA 90. 60MM AMANCO|CON.SOLD|CON.SOLD|NOUN__ROOT PROPN__appos NUM__nummod PUNCT__punct NUM__nummod NOUN__ROOT|NOUN__ROOT|NOUN__ROOT\r\n",
            "68|68|68|CON.SOLD CURVA 90. 75MM AMANCO|CON.SOLD|CON.SOLD|NOUN__ROOT PROPN__appos NUM__nummod PUNCT__punct ADP__nummod PROPN__ROOT|NOUN__ROOT|NOUN__ROOT\r\n",
            "69|69|69|\"CURVA GALV 90 M & F 3\"\" - HIDROCONEX\"|CURVA|CURVA|NOUN__ROOT PROPN__appos PROPN__dep PROPN__dep PROPN__dep PROPN__dep PROPN__dep PROPN__dep PUNCT__punct PROPN__parataxis|NOUN__ROOT|NOUN__ROOT\r\n",
            "70|70|70|CURVA 50MM 90Ø SOLD LONGA|CURVA|CURVA|NOUN__ROOT NUM__flat:name NUM__punct PROPN__ROOT ADJ__amod|NOUN__ROOT|NOUN__ROOT\r\n",
            "71|71|71|CON.GALV LUVA 3|CON.GALV|CON.GALV|ADP__ROOT PROPN__amod NUM__nummod|ADP__ROOT|ADP__ROOT\r\n",
            "72|72|72|AREIA LAVADA MEDIA M²|AREIA|AREIA|PROPN__advmod PROPN__ROOT PROPN__nummod NOUN__nmod|PROPN__advmod|PROPN__advmod\r\n",
            "73|73|73|VASSOURA TIPO PIACAVA Nº05|VASSOURA|VASSOURA|PROPN__advmod PROPN__flat:name PROPN__ROOT PROPN__flat:name|PROPN__advmod|PROPN__advmod\r\n",
            "74|74|74|TEE 90Ø SOLDAVEL 25 MM|MM|TEE|PROPN__ROOT PROPN__punct PROPN__parataxis NUM__nummod PROPN__nsubj|PROPN__nsubj|PROPN__nsubj\r\n",
            "75|75|75|TEE 90Ø SOLDAVEL 32 MM|TEE|TEE|PROPN__ROOT PROPN__punct PROPN__parataxis NUM__nummod PROPN__ROOT|PROPN__ROOT|PROPN__ROOT\r\n",
            "76|76|76|TEE 90Ø SOLDAVEL 40 MM|TEE|TEE|PROPN__ROOT PROPN__punct PROPN__parataxis NUM__nummod PROPN__ROOT|PROPN__ROOT|PROPN__ROOT\r\n",
            "77|77|77|PAPEL A4 180G M² VERGE TURMALINA FILIPAPER C 50|PAPEL|PAPEL|VERB__ROOT NOUN__ROOT NUM__nummod NOUN__dep NOUN__dep PROPN__ROOT PROPN__flat:name PROPN__ROOT NOUN__ROOT NUM__nummod|VERB__ROOT|VERB__ROOT\r\n",
            "78|78|78|CARNE BOVINA 2ª QUALIDADE, MAGRA,MOIDA|CARNE|CARNE|NOUN__ROOT PROPN__flat:name PROPN__amod NOUN__ROOT PUNCT__punct PROPN__conj PUNCT__punct PROPN__conj|NOUN__ROOT|NOUN__ROOT\r\n",
            "79|79|79|LIVRO PRIMEIROS PASSOS - AP.VALORES: QUEREMOSHIGIENE|LIVRO|LIVRO|PROPN__ROOT PROPN__flat:name PROPN__ROOT PUNCT__punct PROPN__dep PUNCT__punct PROPN__appos|PROPN__ROOT|PROPN__ROOT\r\n",
            "80|80|80|LIVRO PRIMEIROS PASSOS - AP.VALORES: REPARTIRCOMPARTILHAR|LIVRO|LIVRO|PROPN__ROOT PROPN__flat:name PROPN__ROOT PUNCT__punct PROPN__parataxis PUNCT__punct PROPN__appos|PROPN__ROOT|PROPN__ROOT\r\n",
            "81|81|81|LIVRO PRIMEIROS PASSOS - AP.VALORES: TRABALHODEVERES|LIVRO|LIVRO|PROPN__ROOT PROPN__flat:name PROPN__ROOT PUNCT__punct PROPN__dep PUNCT__punct PROPN__appos|PROPN__ROOT|PROPN__ROOT\r\n",
            "82|82|82|RESISTENCIA ALETADA 1833 WATTS|ALETADA WATTS|RESISTENCIA|PROPN__ROOT PROPN__nsubj NUM__nummod PROPN__nsubj|PROPN__nsubj|PROPN__nsubj\r\n",
            "83|83|83|PREGO 17X21 EMBALAGEM 1KG|PREGO|PREGO|NOUN__ROOT NUM__det NOUN__nsubj NUM__amod|NOUN__ROOT|NOUN__nsubj\r\n",
            "84|84|84|PREGO 17X21 PCT 1K BELGO|PREGO|PREGO|NOUN__ROOT NUM__dep PROPN__dep PROPN__nummod PROPN__ROOT PROPN__flat:name|NOUN__ROOT|NOUN__ROOT\r\n",
            "85|85|85|PREGO 17X21 POL. 2X11 7465|PREGO|PREGO|NOUN__ROOT NUM__nummod PROPN__ROOT PUNCT__punct NUM__nummod NUM__ROOT|NOUN__ROOT|NOUN__ROOT\r\n",
            "86|86|86|PREGO 17X21 RETORCIDO|PREGO|PREGO|NOUN__ROOT NUM__det PROPN__nmod|NOUN__ROOT|NOUN__ROOT\r\n",
            "87|87|87|PREGO 17X21 2X11 ACERLOR MITTAL BELGO|PREGO|PREGO|NOUN__ROOT NUM__nummod NUM__flat PROPN__ROOT PROPN__punct PROPN__appos|NOUN__ROOT|NOUN__ROOT\r\n",
            "88|88|88|PREGOS 17X21 TRIANGULO|PREGOS|PREGOS|NOUN__ROOT ADP__nummod PROPN__flat:name|NOUN__ROOT|NOUN__ROOT\r\n",
            "89|89|89|SELENE 3X21COM|SELENE|SELENE|NOUN__ROOT NUM__nummod|NOUN__ROOT|NOUN__ROOT\r\n",
            "90|90|90|TB 25,40X21,4X2,00 6000MM|TB|TB|PROPN__ROOT NUM__nummod NUM__flat|PROPN__ROOT|PROPN__ROOT\r\n",
            "91|91|91|TOALHA PAP.BH C 2 19X21.5 50F PT|TOALHA|TOALHA|NOUN__det NOUN__ROOT NOUN__ROOT NUM__dep NUM__flat:name NOUN__nummod PROPN__ROOT|NOUN__det|NOUN__det\r\n",
            "92|92|92|TOALHA PAPEL I FL 20X21 PARDO|PARDO|TOALHA|PROPN__ROOT NOUN__amod ADJ__ROOT PROPN__ROOT PROPN__det PROPN__nsubj|PROPN__nsubj|PROPN__nsubj\r\n",
            "93|93|93|TOALHA PAPEL MAX CLEAN CREME 23X21CM|TOALHA|TOALHA|NOUN__ROOT NOUN__amod PROPN__ROOT PROPN__flat:name PROPN__ROOT PROPN__amod|NOUN__ROOT|NOUN__ROOT\r\n",
            "94|94|94|CAIXA PLAST 33X22X10 C TP FECH TRANSP PLEION 0320|CAIXA|CAIXA|PROPN__nummod VERB__ROOT NUM__nummod PROPN__ROOT PROPN__flat:name PROPN__flat:name PROPN__amod PROPN__ROOT NUM__nummod|PROPN__nummod|PROPN__nummod\r\n",
            "95|95|95|CANALETA C TAMPA 40X10X2200 MM|CANALETA|CANALETA|PROPN__ROOT PROPN__flat:name PROPN__flat:name PROPN__dep PROPN__ROOT|PROPN__ROOT|PROPN__ROOT\r\n",
            "96|96|96|CANALETA C TAMPA 50X20X2200 MM 1052|CANALETA|CANALETA|PROPN__ROOT PROPN__flat:name PROPN__flat:name PROPN__dep PROPN__ROOT NUM__nummod|PROPN__ROOT|PROPN__ROOT\r\n",
            "97|97|97|CANALETA 2001 20X10X2200 MM BEGE|CANALETA|CANALETA|PROPN__ROOT NUM__flat:name PROPN__nummod PROPN__ROOT PROPN__ROOT|PROPN__ROOT|PROPN__ROOT\r\n",
            "98|98|98|CARTAO LATAO COM EST 140X220 LP|CARTAO|CARTAO|PROPN__ROOT PROPN__flat:name ADP__case PROPN__nmod NUM__flat:name NOUN__appos|PROPN__ROOT|PROPN__ROOT\r\n"
          ]
        }
      ]
    },
    {
      "cell_type": "code",
      "source": [
        "import pandas as pd\n",
        "\n",
        "df_dados = pd.read_csv(arquivo_dados, sep='|')\n",
        "df_dados = df_dados['descricao_produto']\n",
        "df_dados.head()"
      ],
      "metadata": {
        "colab": {
          "base_uri": "https://localhost:8080/",
          "height": 241
        },
        "id": "hU8zpeLZ2fms",
        "outputId": "495a0f89-901e-4f77-dacd-141618640eba"
      },
      "execution_count": null,
      "outputs": [
        {
          "output_type": "execute_result",
          "data": {
            "text/plain": [
              "0                 FIO 2,5 MM²\n",
              "1             CABO PP3X4.0MM²\n",
              "2    FIO PARALELO 2 X 2,5 MM²\n",
              "3                    AREIA M³\n",
              "4       CABO FLEX 16MM² PRETO\n",
              "Name: descricao_produto, dtype: object"
            ],
            "text/html": [
              "<div>\n",
              "<style scoped>\n",
              "    .dataframe tbody tr th:only-of-type {\n",
              "        vertical-align: middle;\n",
              "    }\n",
              "\n",
              "    .dataframe tbody tr th {\n",
              "        vertical-align: top;\n",
              "    }\n",
              "\n",
              "    .dataframe thead th {\n",
              "        text-align: right;\n",
              "    }\n",
              "</style>\n",
              "<table border=\"1\" class=\"dataframe\">\n",
              "  <thead>\n",
              "    <tr style=\"text-align: right;\">\n",
              "      <th></th>\n",
              "      <th>descricao_produto</th>\n",
              "    </tr>\n",
              "  </thead>\n",
              "  <tbody>\n",
              "    <tr>\n",
              "      <th>0</th>\n",
              "      <td>FIO 2,5 MM²</td>\n",
              "    </tr>\n",
              "    <tr>\n",
              "      <th>1</th>\n",
              "      <td>CABO PP3X4.0MM²</td>\n",
              "    </tr>\n",
              "    <tr>\n",
              "      <th>2</th>\n",
              "      <td>FIO PARALELO 2 X 2,5 MM²</td>\n",
              "    </tr>\n",
              "    <tr>\n",
              "      <th>3</th>\n",
              "      <td>AREIA M³</td>\n",
              "    </tr>\n",
              "    <tr>\n",
              "      <th>4</th>\n",
              "      <td>CABO FLEX 16MM² PRETO</td>\n",
              "    </tr>\n",
              "  </tbody>\n",
              "</table>\n",
              "</div><br><label><b>dtype:</b> object</label>"
            ]
          },
          "metadata": {},
          "execution_count": 4
        }
      ]
    },
    {
      "cell_type": "code",
      "source": [
        "len(df_dados)"
      ],
      "metadata": {
        "colab": {
          "base_uri": "https://localhost:8080/"
        },
        "id": "KfkFoCs14Cdn",
        "outputId": "634ee1e8-7071-4932-8bd6-7aa14e113001"
      },
      "execution_count": null,
      "outputs": [
        {
          "output_type": "execute_result",
          "data": {
            "text/plain": [
              "710021"
            ]
          },
          "metadata": {},
          "execution_count": 6
        }
      ]
    },
    {
      "cell_type": "code",
      "source": [
        "import pandas as pd\n",
        "import numpy as np\n",
        "\n",
        "np.random.seed(11693)\n",
        "\n",
        "df_dados_amostra = df_dados.sample(n=5000)\n",
        "print(len(df_dados_amostra))\n",
        "df_dados_amostra.head()"
      ],
      "metadata": {
        "colab": {
          "base_uri": "https://localhost:8080/",
          "height": 258
        },
        "id": "43v0ui0SGor8",
        "outputId": "2870dbad-260a-4cdd-9aac-4922ebe072e5"
      },
      "execution_count": null,
      "outputs": [
        {
          "output_type": "stream",
          "name": "stdout",
          "text": [
            "5000\n"
          ]
        },
        {
          "output_type": "execute_result",
          "data": {
            "text/plain": [
              "606737                      FILTRO COMB PSC 491\n",
              "58052                         LINHA DINNER CONE\n",
              "353864    TOPIRAMATO 25MG CX.C 60CAP GEN EMS C1\n",
              "702162                     LONA AMARELA 6 X 50M\n",
              "118382                   BROCA A RAP IRWIN 5 32\n",
              "Name: descricao_produto, dtype: object"
            ],
            "text/html": [
              "<div>\n",
              "<style scoped>\n",
              "    .dataframe tbody tr th:only-of-type {\n",
              "        vertical-align: middle;\n",
              "    }\n",
              "\n",
              "    .dataframe tbody tr th {\n",
              "        vertical-align: top;\n",
              "    }\n",
              "\n",
              "    .dataframe thead th {\n",
              "        text-align: right;\n",
              "    }\n",
              "</style>\n",
              "<table border=\"1\" class=\"dataframe\">\n",
              "  <thead>\n",
              "    <tr style=\"text-align: right;\">\n",
              "      <th></th>\n",
              "      <th>descricao_produto</th>\n",
              "    </tr>\n",
              "  </thead>\n",
              "  <tbody>\n",
              "    <tr>\n",
              "      <th>606737</th>\n",
              "      <td>FILTRO COMB PSC 491</td>\n",
              "    </tr>\n",
              "    <tr>\n",
              "      <th>58052</th>\n",
              "      <td>LINHA DINNER CONE</td>\n",
              "    </tr>\n",
              "    <tr>\n",
              "      <th>353864</th>\n",
              "      <td>TOPIRAMATO 25MG CX.C 60CAP GEN EMS C1</td>\n",
              "    </tr>\n",
              "    <tr>\n",
              "      <th>702162</th>\n",
              "      <td>LONA AMARELA 6 X 50M</td>\n",
              "    </tr>\n",
              "    <tr>\n",
              "      <th>118382</th>\n",
              "      <td>BROCA A RAP IRWIN 5 32</td>\n",
              "    </tr>\n",
              "  </tbody>\n",
              "</table>\n",
              "</div><br><label><b>dtype:</b> object</label>"
            ]
          },
          "metadata": {},
          "execution_count": 12
        }
      ]
    },
    {
      "cell_type": "code",
      "source": [
        "df_dados_amostra.to_frame().to_csv('/content/drive/MyDrive/disciplinas/PPGTI3100 - TÓPICOS AVANÇADOS EM INTELIGÊNCIA COMPUTACIONAL 1/trabalho_final/df_dados_amostra_5000.csv')"
      ],
      "metadata": {
        "id": "g-3MUBE9G2L4"
      },
      "execution_count": null,
      "outputs": []
    },
    {
      "cell_type": "code",
      "source": [],
      "metadata": {
        "id": "goCHQb4d4p2J"
      },
      "execution_count": null,
      "outputs": []
    }
  ]
}